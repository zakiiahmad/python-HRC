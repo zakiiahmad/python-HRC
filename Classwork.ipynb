{
 "cells": [
  {
   "cell_type": "markdown",
   "id": "022d70df",
   "metadata": {},
   "source": [
    "## Week 1"
   ]
  },
  {
   "cell_type": "markdown",
   "id": "ce890dd4",
   "metadata": {},
   "source": [
    "#### Write a Python program to print two lines: a greeting message and a welcome note using the print() function\n"
   ]
  },
  {
   "cell_type": "code",
   "execution_count": 4,
   "id": "759884fc",
   "metadata": {},
   "outputs": [
    {
     "name": "stdout",
     "output_type": "stream",
     "text": [
      "Welcomeee\n",
      "It is our great pleasure to have you on board!\n"
     ]
    }
   ],
   "source": [
    "print('Welcomeee')\n",
    "print('It is our great pleasure to have you on board!')"
   ]
  },
  {
   "cell_type": "markdown",
   "id": "b99d18cd",
   "metadata": {},
   "source": [
    "#### Write a Python program to declare two numbers and display their sum, difference, product, and division."
   ]
  },
  {
   "cell_type": "code",
   "execution_count": 6,
   "id": "f3e60a0e",
   "metadata": {},
   "outputs": [
    {
     "name": "stdout",
     "output_type": "stream",
     "text": [
      "33\n",
      "11\n",
      "242\n",
      "2.0\n",
      "2\n"
     ]
    }
   ],
   "source": [
    "num1 = 22\n",
    "num2 = 11\n",
    "\n",
    "print(num1 + num2)\n",
    "print(num1 - num2)\n",
    "print(num1 * num2)\n",
    "print(num1 / num2)\n",
    "print(int(num1 / num2))"
   ]
  },
  {
   "cell_type": "markdown",
   "id": "ca71b87b",
   "metadata": {},
   "source": [
    "#### Write a Python program that takes the user's name as input and prints a personalized greeting message."
   ]
  },
  {
   "cell_type": "code",
   "execution_count": 3,
   "id": "8ef01e4a",
   "metadata": {},
   "outputs": [
    {
     "name": "stdout",
     "output_type": "stream",
     "text": [
      "Welcome Zaki, HAve a lovely Day\n"
     ]
    }
   ],
   "source": [
    "name = input('What is your Name')\n",
    "print(f'Welcome {name}, HAve a lovely Day')"
   ]
  },
  {
   "cell_type": "markdown",
   "id": "5262a5c5",
   "metadata": {},
   "source": [
    "#### Write a Python program to calculate the area of a rectangle. Take length and width as input from the user."
   ]
  },
  {
   "cell_type": "code",
   "execution_count": 5,
   "id": "29492d35",
   "metadata": {},
   "outputs": [
    {
     "name": "stdout",
     "output_type": "stream",
     "text": [
      "Area Calculator of Rectangle\n",
      "Area of Rectangle = 1936\n"
     ]
    }
   ],
   "source": [
    "print('Area Calculator of Rectangle')\n",
    "length = int(input('Length ?'))\n",
    "width = int(input('width ?'))\n",
    "print(f'Area of Rectangle = {length*width}')\n"
   ]
  },
  {
   "cell_type": "markdown",
   "id": "d433e4fa",
   "metadata": {},
   "source": [
    "## Week 2"
   ]
  },
  {
   "cell_type": "markdown",
   "id": "64e86150",
   "metadata": {},
   "source": [
    "#### Write a Python program that takes three numbers as input from the user and prints their average."
   ]
  },
  {
   "cell_type": "code",
   "execution_count": 7,
   "id": "44ea904e",
   "metadata": {},
   "outputs": [
    {
     "name": "stdout",
     "output_type": "stream",
     "text": [
      "3 number Average Calculator\n",
      "2.0\n"
     ]
    }
   ],
   "source": [
    "print('3 number Average Calculator')\n",
    "num1 = int(input('Enter Number 1 '))\n",
    "num2 = int(input('Enter Number 2 '))\n",
    "num3 = int(input('Enter Number 3 '))\n",
    "print((num1 + num2 +num3)/3)"
   ]
  },
  {
   "cell_type": "markdown",
   "id": "c8dc9d5e",
   "metadata": {},
   "source": [
    "####  \"Write a Python program to take marks as input (out of 100) and display:\n",
    " * \"\"Excellent\"\" if marks ≥ 90\n",
    " * \"\"Very Good\"\" if marks ≥ 75 and < 90\n",
    " * \"\"Good\"\" if marks ≥ 50 and < 75\n",
    " * \"\"Needs Improvement\"\" if marks < 50\""
   ]
  },
  {
   "cell_type": "code",
   "execution_count": 9,
   "id": "8dfae12c",
   "metadata": {},
   "outputs": [
    {
     "name": "stdout",
     "output_type": "stream",
     "text": [
      "Good\n"
     ]
    }
   ],
   "source": [
    "marks = int(input('Enter your Marks out of 100? '))\n",
    "\n",
    "if marks >= 90:\n",
    "  print('Excellent')\n",
    "elif marks >= 75:\n",
    "  print('Very Good')\n",
    "elif marks >= 50:\n",
    "  print('Good')\n",
    "else :\n",
    "  print('Need Improvement')\n"
   ]
  },
  {
   "cell_type": "markdown",
   "id": "1c1fa32e",
   "metadata": {},
   "source": [
    "#### Write a Python program to take a number as input and print whether it is even or odd."
   ]
  },
  {
   "cell_type": "code",
   "execution_count": 10,
   "id": "69b01ce2",
   "metadata": {},
   "outputs": [
    {
     "name": "stdout",
     "output_type": "stream",
     "text": [
      "Odd Even checker\n",
      "5 is Odd\n"
     ]
    }
   ],
   "source": [
    "print('Odd Even checker')\n",
    "num = int(input('Enter Number ?'))\n",
    "if num/2 == 0:\n",
    "  print(f'{num} is Even')\n",
    "else:\n",
    "  print(f'{num} is Odd')"
   ]
  },
  {
   "cell_type": "markdown",
   "id": "993da375",
   "metadata": {},
   "source": [
    "#### Write a Python program to take three numbers as input and print which one is the largest."
   ]
  },
  {
   "cell_type": "code",
   "execution_count": 12,
   "id": "38a5bd74",
   "metadata": {},
   "outputs": [
    {
     "name": "stdout",
     "output_type": "stream",
     "text": [
      "Largest Number out of three is 44\n"
     ]
    }
   ],
   "source": [
    "numbers = []\n",
    "num1 = int(input('Enter Your number 1'))\n",
    "num2 = int(input('Enter Your number 1'))\n",
    "num3 = int(input('Enter Your number 1'))\n",
    "numbers.append(num1)\n",
    "numbers.append(num2)\n",
    "numbers.append(num3)\n",
    "print(f'Largest Number out of three is {max(numbers)}')"
   ]
  },
  {
   "cell_type": "markdown",
   "id": "7d787a94",
   "metadata": {},
   "source": [
    "#### Write a Python program that takes temperature in Celsius as input and converts it to Fahrenheit using the formula:    F = (C * 9/5) + 32"
   ]
  },
  {
   "cell_type": "code",
   "execution_count": null,
   "id": "fef9a543",
   "metadata": {},
   "outputs": [
    {
     "name": "stdout",
     "output_type": "stream",
     "text": [
      "32.0 Celsius \n",
      " equal to 89.6 Fahrenheit\n",
      "[22, 33, 44]\n"
     ]
    }
   ],
   "source": [
    "temp_inCel = float(input('Enter Temperature in Celsius'))\n",
    "Fahr = (temp_inCel*9/5) + 32\n",
    "print(f'{temp_inCel} Celsius \\n equal to {Fahr} Fahrenheit')"
   ]
  },
  {
   "cell_type": "markdown",
   "id": "1e9d0fc0",
   "metadata": {},
   "source": [
    "Week3\t\n",
    "Write a Python program to check whether a number is Armstrong or not.\n",
    "\tWrite a Python program to check whether a number is Prime or not.\n",
    "\tWrite a function that checks if a string is a palindrome (without loops, use slicing)\n",
    "\tWrite a function that takes a number and returns the sum of its digits.\n",
    "Week 4\t\n",
    "Write a Python program to find the roots of a quadratic equation\n",
    "\tWrite a Python program to accept a number ‘n’ and check if ’n’ is prime\n",
    "\tWrite a Python program to accept a number ‘n’ and generate all prime numbers till ‘n’\n",
    "\tWrite a Python program to accept a number ‘n’ and generate first ‘n’ prime numbers\n",
    "\t\"WAP to create a pyramid of the character ‘*’ \n",
    "\n",
    "*\n",
    "**\n",
    "***\n",
    "****\n",
    "*****\"\n",
    "\t\n",
    "  \n",
    "\"WAP to print the following pattern\n",
    "1\n",
    "1 2\n",
    "1 2 3\n",
    "1 2 3 4\n",
    "1 2 3 4 5\""
   ]
  },
  {
   "cell_type": "code",
   "execution_count": 4,
   "id": "87b9f021",
   "metadata": {},
   "outputs": [
    {
     "name": "stdout",
     "output_type": "stream",
     "text": [
      "153 is armstrong\n"
     ]
    }
   ],
   "source": [
    "num = int(input('Enter Number to Check'))\n",
    "digits = str(num)\n",
    "power = len(digits)\n",
    "\n",
    "arm_strong_num = 0\n",
    "for x in digits:\n",
    "  arm_strong_num += int(x) ** power\n",
    "\n",
    "if num == arm_strong_num:\n",
    "  print(f'{num} is armstrong')\n",
    "else :\n",
    "  print(f'{num} is NOT armstrong')\n",
    "\n"
   ]
  },
  {
   "cell_type": "code",
   "execution_count": 6,
   "id": "85dd899d",
   "metadata": {},
   "outputs": [
    {
     "name": "stdout",
     "output_type": "stream",
     "text": [
      "7 is Prime Number\n"
     ]
    }
   ],
   "source": [
    "# Write a Python program to check whether a number is Prime or not.\n",
    "num = int(input('Enter Number'))\n",
    "\n",
    "if num <= 1:\n",
    "  print(f'{num} is not prime')\n",
    "elif num>1 :\n",
    "  for i in range(2,num):\n",
    "    if (num % i) == 0:\n",
    "      print (f'{num} is not Prime Num')\n",
    "      break\n",
    "  else :\n",
    "      print(f'{num} is Prime Number')\n",
    "\n",
    "# for negative num and not int\n",
    "else :\n",
    "  print(f'{num} is Not Prime')\n"
   ]
  },
  {
   "cell_type": "code",
   "execution_count": 6,
   "id": "b1d69a5a",
   "metadata": {},
   "outputs": [
    {
     "name": "stdout",
     "output_type": "stream",
     "text": [
      "6 is sum of every digit in 123\n"
     ]
    }
   ],
   "source": [
    "def Sum_of_digit(num) :\n",
    "  num = int(input('Enter Number to Check'))\n",
    "  digits = str(num)\n",
    "\n",
    "  sum = 0\n",
    "  for x in digits:\n",
    "    sum += int(x) \n",
    "  print(f'{sum} is sum of every digit in {num}')\n",
    "\n",
    "Sum_of_digit(num)\n"
   ]
  },
  {
   "cell_type": "code",
   "execution_count": 1,
   "id": "347fbfa0",
   "metadata": {},
   "outputs": [
    {
     "name": "stdout",
     "output_type": "stream",
     "text": [
      "*\n",
      "**\n",
      "***\n",
      "****\n",
      "*****\n"
     ]
    }
   ],
   "source": [
    "i=0\n",
    "while i<5:\n",
    "  i += 1\n",
    "  print('*'*i)"
   ]
  },
  {
   "cell_type": "code",
   "execution_count": null,
   "id": "cf07ecfc",
   "metadata": {},
   "outputs": [
    {
     "name": "stdout",
     "output_type": "stream",
     "text": [
      "1\n",
      "12\n",
      "123\n",
      "1234\n",
      "12345\n"
     ]
    }
   ],
   "source": [
    "for i in range(1, 6):\n",
    "    for j in range(1, i + 1): \n",
    "        print(j, end=\"\")\n",
    "    print()\n",
    "       "
   ]
  },
  {
   "cell_type": "code",
   "execution_count": 3,
   "id": "c4ae425b",
   "metadata": {},
   "outputs": [
    {
     "name": "stdout",
     "output_type": "stream",
     "text": [
      "1x2 + 2x + c\n",
      "Roots are equal - -1.0\n"
     ]
    }
   ],
   "source": [
    "# quadratic eqn\n",
    "\n",
    "\n",
    "a = int(input('General Quadratic eqn = ax2 + bx + c - Enter Value of a'))\n",
    "b = int(input('General Quadratic eqn = ax2 + bx + c - Enter Value of b'))\n",
    "c = int(input('General Quadratic eqn = ax2 + bx + c - Enter Value of c'))\n",
    "\n",
    "d = (b**2) - (4*a*c)\n",
    "root1 = ((-b) + (d**0.5))/2*a\n",
    "root2 = ((-b) - (d**0.5))/2*a\n",
    "\n",
    "print(f'{a}x2 + {b}x + c')\n",
    "if d < 0:\n",
    "  print(f'Roots are Imaginary')\n",
    "elif d==0:\n",
    "  print(f'Roots are equal - {root1}')\n",
    "else:\n",
    "  print(f'Root 1 - {root1}')\n",
    "  print(f'Root 2 - {root2}')\n",
    "\n"
   ]
  },
  {
   "cell_type": "code",
   "execution_count": 13,
   "id": "96f52c93",
   "metadata": {},
   "outputs": [
    {
     "name": "stdout",
     "output_type": "stream",
     "text": [
      "Prime Number till 30 are : \n",
      "2 3 5 7 11 13 17 19 23 29 \n"
     ]
    }
   ],
   "source": [
    "try:\n",
    "  num = int(input('Enter Number to list prime number that number : '))\n",
    "except ValueError:\n",
    "  print('Enter Only Integer')\n",
    "  exit()\n",
    "\n",
    "if num<2:\n",
    "  print('There is no Prime number below 2')\n",
    "else:\n",
    "  print(f'Prime Number till {num} are : ')\n",
    "\n",
    "  for x in range(2,num+1):\n",
    "    for i in range(2,int(x**0.5) + 1):  \n",
    "        if x%i ==0:\n",
    "          break\n",
    "    else:\n",
    "       print(x, end=' ')\n",
    "print()\n"
   ]
  }
 ],
 "metadata": {
  "kernelspec": {
   "display_name": "Python 3",
   "language": "python",
   "name": "python3"
  },
  "language_info": {
   "codemirror_mode": {
    "name": "ipython",
    "version": 3
   },
   "file_extension": ".py",
   "mimetype": "text/x-python",
   "name": "python",
   "nbconvert_exporter": "python",
   "pygments_lexer": "ipython3",
   "version": "3.13.6"
  }
 },
 "nbformat": 4,
 "nbformat_minor": 5
}
