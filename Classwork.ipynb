{
 "cells": [
  {
   "cell_type": "markdown",
   "id": "022d70df",
   "metadata": {},
   "source": [
    "## Week 1"
   ]
  },
  {
   "cell_type": "markdown",
   "id": "ce890dd4",
   "metadata": {},
   "source": [
    "#### Write a Python program to print two lines: a greeting message and a welcome note using the print() function\n"
   ]
  },
  {
   "cell_type": "code",
   "execution_count": 4,
   "id": "759884fc",
   "metadata": {},
   "outputs": [
    {
     "name": "stdout",
     "output_type": "stream",
     "text": [
      "Welcomeee\n",
      "It is our great pleasure to have you on board!\n"
     ]
    }
   ],
   "source": [
    "print('Welcomeee')\n",
    "print('It is our great pleasure to have you on board!')"
   ]
  },
  {
   "cell_type": "markdown",
   "id": "b99d18cd",
   "metadata": {},
   "source": [
    "#### Write a Python program to declare two numbers and display their sum, difference, product, and division."
   ]
  },
  {
   "cell_type": "code",
   "execution_count": 6,
   "id": "f3e60a0e",
   "metadata": {},
   "outputs": [
    {
     "name": "stdout",
     "output_type": "stream",
     "text": [
      "33\n",
      "11\n",
      "242\n",
      "2.0\n",
      "2\n"
     ]
    }
   ],
   "source": [
    "num1 = 22\n",
    "num2 = 11\n",
    "\n",
    "print(num1 + num2)\n",
    "print(num1 - num2)\n",
    "print(num1 * num2)\n",
    "print(num1 / num2)\n",
    "print(int(num1 / num2))"
   ]
  },
  {
   "cell_type": "markdown",
   "id": "ca71b87b",
   "metadata": {},
   "source": [
    "#### Write a Python program that takes the user's name as input and prints a personalized greeting message."
   ]
  },
  {
   "cell_type": "code",
   "execution_count": 3,
   "id": "8ef01e4a",
   "metadata": {},
   "outputs": [
    {
     "name": "stdout",
     "output_type": "stream",
     "text": [
      "Welcome Zaki, HAve a lovely Day\n"
     ]
    }
   ],
   "source": [
    "name = input('What is your Name')\n",
    "print(f'Welcome {name}, HAve a lovely Day')"
   ]
  },
  {
   "cell_type": "markdown",
   "id": "5262a5c5",
   "metadata": {},
   "source": [
    "#### Write a Python program to calculate the area of a rectangle. Take length and width as input from the user."
   ]
  },
  {
   "cell_type": "code",
   "execution_count": 5,
   "id": "29492d35",
   "metadata": {},
   "outputs": [
    {
     "name": "stdout",
     "output_type": "stream",
     "text": [
      "Area Calculator of Rectangle\n",
      "Area of Rectangle = 1936\n"
     ]
    }
   ],
   "source": [
    "print('Area Calculator of Rectangle')\n",
    "length = int(input('Length ?'))\n",
    "width = int(input('width ?'))\n",
    "print(f'Area of Rectangle = {length*width}')\n"
   ]
  },
  {
   "cell_type": "markdown",
   "id": "d433e4fa",
   "metadata": {},
   "source": [
    "## Week 2"
   ]
  },
  {
   "cell_type": "markdown",
   "id": "64e86150",
   "metadata": {},
   "source": [
    "#### Write a Python program that takes three numbers as input from the user and prints their average."
   ]
  },
  {
   "cell_type": "code",
   "execution_count": 7,
   "id": "44ea904e",
   "metadata": {},
   "outputs": [
    {
     "name": "stdout",
     "output_type": "stream",
     "text": [
      "3 number Average Calculator\n",
      "2.0\n"
     ]
    }
   ],
   "source": [
    "print('3 number Average Calculator')\n",
    "num1 = int(input('Enter Number 1 '))\n",
    "num2 = int(input('Enter Number 2 '))\n",
    "num3 = int(input('Enter Number 3 '))\n",
    "print((num1 + num2 +num3)/3)"
   ]
  },
  {
   "cell_type": "markdown",
   "id": "c8dc9d5e",
   "metadata": {},
   "source": [
    "####  \"Write a Python program to take marks as input (out of 100) and display:\n",
    " * \"\"Excellent\"\" if marks ≥ 90\n",
    " * \"\"Very Good\"\" if marks ≥ 75 and < 90\n",
    " * \"\"Good\"\" if marks ≥ 50 and < 75\n",
    " * \"\"Needs Improvement\"\" if marks < 50\""
   ]
  },
  {
   "cell_type": "code",
   "execution_count": 9,
   "id": "8dfae12c",
   "metadata": {},
   "outputs": [
    {
     "name": "stdout",
     "output_type": "stream",
     "text": [
      "Good\n"
     ]
    }
   ],
   "source": [
    "marks = int(input('Enter your Marks out of 100? '))\n",
    "\n",
    "if marks >= 90:\n",
    "  print('Excellent')\n",
    "elif marks >= 75:\n",
    "  print('Very Good')\n",
    "elif marks >= 50:\n",
    "  print('Good')\n",
    "else :\n",
    "  print('Need Improvement')\n"
   ]
  },
  {
   "cell_type": "markdown",
   "id": "1c1fa32e",
   "metadata": {},
   "source": [
    "#### Write a Python program to take a number as input and print whether it is even or odd."
   ]
  },
  {
   "cell_type": "code",
   "execution_count": 10,
   "id": "69b01ce2",
   "metadata": {},
   "outputs": [
    {
     "name": "stdout",
     "output_type": "stream",
     "text": [
      "Odd Even checker\n",
      "5 is Odd\n"
     ]
    }
   ],
   "source": [
    "print('Odd Even checker')\n",
    "num = int(input('Enter Number ?'))\n",
    "if num/2 == 0:\n",
    "  print(f'{num} is Even')\n",
    "else:\n",
    "  print(f'{num} is Odd')"
   ]
  },
  {
   "cell_type": "markdown",
   "id": "993da375",
   "metadata": {},
   "source": [
    "#### Write a Python program to take three numbers as input and print which one is the largest."
   ]
  },
  {
   "cell_type": "code",
   "execution_count": 12,
   "id": "38a5bd74",
   "metadata": {},
   "outputs": [
    {
     "name": "stdout",
     "output_type": "stream",
     "text": [
      "Largest Number out of three is 44\n"
     ]
    }
   ],
   "source": [
    "numbers = []\n",
    "num1 = int(input('Enter Your number 1'))\n",
    "num2 = int(input('Enter Your number 1'))\n",
    "num3 = int(input('Enter Your number 1'))\n",
    "numbers.append(num1)\n",
    "numbers.append(num2)\n",
    "numbers.append(num3)\n",
    "print(f'Largest Number out of three is {max(numbers)}')"
   ]
  },
  {
   "cell_type": "markdown",
   "id": "7d787a94",
   "metadata": {},
   "source": [
    "#### Write a Python program that takes temperature in Celsius as input and converts it to Fahrenheit using the formula:    F = (C * 9/5) + 32"
   ]
  },
  {
   "cell_type": "code",
   "execution_count": null,
   "id": "fef9a543",
   "metadata": {},
   "outputs": [
    {
     "name": "stdout",
     "output_type": "stream",
     "text": [
      "32.0 Celsius \n",
      " equal to 89.6 Fahrenheit\n",
      "[22, 33, 44]\n"
     ]
    }
   ],
   "source": [
    "temp_inCel = float(input('Enter Temperature in Celsius'))\n",
    "Fahr = (temp_inCel*9/5) + 32\n",
    "print(f'{temp_inCel} Celsius \\n equal to {Fahr} Fahrenheit')"
   ]
  },
  {
   "cell_type": "markdown",
   "id": "1e9d0fc0",
   "metadata": {},
   "source": [
    "Week3\t\n",
    "Write a Python program to check whether a number is Armstrong or not.\n",
    "\tWrite a Python program to check whether a number is Prime or not.\n",
    "\tWrite a function that checks if a string is a palindrome (without loops, use slicing)\n",
    "\tWrite a function that takes a number and returns the sum of its digits.\n",
    "Week 4\t\n",
    "Write a Python program to find the roots of a quadratic equation\n",
    "\tWrite a Python program to accept a number ‘n’ and check if ’n’ is prime\n",
    "\tWrite a Python program to accept a number ‘n’ and generate all prime numbers till ‘n’\n",
    "\tWrite a Python program to accept a number ‘n’ and generate first ‘n’ prime numbers\n",
    "\t\"WAP to create a pyramid of the character ‘*’ \n",
    "\n",
    "*\n",
    "**\n",
    "***\n",
    "****\n",
    "*****\"\n",
    "\t\n",
    "  \n",
    "\"WAP to print the following pattern\n",
    "1\n",
    "1 2\n",
    "1 2 3\n",
    "1 2 3 4\n",
    "1 2 3 4 5\""
   ]
  }
 ],
 "metadata": {
  "kernelspec": {
   "display_name": "Python 3",
   "language": "python",
   "name": "python3"
  },
  "language_info": {
   "codemirror_mode": {
    "name": "ipython",
    "version": 3
   },
   "file_extension": ".py",
   "mimetype": "text/x-python",
   "name": "python",
   "nbconvert_exporter": "python",
   "pygments_lexer": "ipython3",
   "version": "3.13.6"
  }
 },
 "nbformat": 4,
 "nbformat_minor": 5
}
